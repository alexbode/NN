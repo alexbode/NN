{
 "cells": [
  {
   "cell_type": "code",
   "execution_count": 1,
   "metadata": {},
   "outputs": [
    {
     "name": "stderr",
     "output_type": "stream",
     "text": [
      "Using TensorFlow backend.\n"
     ]
    }
   ],
   "source": [
    "from keras.layers import Concatenate, Add,Input, Dense, Activation, ZeroPadding2D, BatchNormalization, Flatten, Conv2D, AveragePooling2D, MaxPooling2D, GlobalMaxPooling2D\n",
    "from keras.models import Model, load_model\n",
    "from keras.initializers import glorot_uniform\n",
    "from keras.optimizers import Adam, Nadam, SGD\n",
    "from keras.callbacks import Callback\n",
    "import keras.backend as K\n",
    "import pandas as pd\n",
    "import numpy as np\n",
    "import matplotlib.pyplot as plt\n",
    "from scipy import ndimage\n",
    "from sklearn.model_selection import train_test_split\n",
    "from sklearn.utils import shuffle\n",
    "from skimage.transform import rotate\n",
    "from sklearn.metrics import roc_curve, auc, confusion_matrix, f1_score\n",
    "%matplotlib inline\n",
    "import itertools"
   ]
  },
  {
   "cell_type": "code",
   "execution_count": 2,
   "metadata": {},
   "outputs": [],
   "source": [
    "images = pd.read_json(\"data/processed/train.json\")"
   ]
  },
  {
   "cell_type": "code",
   "execution_count": 3,
   "metadata": {},
   "outputs": [],
   "source": [
    "images['inc_angle'] = images['inc_angle'].apply(pd.to_numeric, errors='coerce')\n",
    "images = images.dropna()"
   ]
  },
  {
   "cell_type": "code",
   "execution_count": 4,
   "metadata": {},
   "outputs": [
    {
     "data": {
      "text/html": [
       "<div>\n",
       "<table border=\"1\" class=\"dataframe\">\n",
       "  <thead>\n",
       "    <tr style=\"text-align: right;\">\n",
       "      <th></th>\n",
       "      <th>band_1</th>\n",
       "      <th>band_2</th>\n",
       "      <th>id</th>\n",
       "      <th>inc_angle</th>\n",
       "      <th>is_iceberg</th>\n",
       "    </tr>\n",
       "  </thead>\n",
       "  <tbody>\n",
       "    <tr>\n",
       "      <th>1504</th>\n",
       "      <td>[-20.528059, -22.144562, -26.714188, -24.64341...</td>\n",
       "      <td>[-25.471151, -27.77906, -28.993053, -28.165241...</td>\n",
       "      <td>b2bc5d27</td>\n",
       "      <td>45.2814</td>\n",
       "      <td>1</td>\n",
       "    </tr>\n",
       "    <tr>\n",
       "      <th>1505</th>\n",
       "      <td>[-15.371544, -14.431547, -15.970677, -18.76996...</td>\n",
       "      <td>[-22.540173, -23.125895, -21.643795, -24.43109...</td>\n",
       "      <td>71a0d13b</td>\n",
       "      <td>35.7829</td>\n",
       "      <td>0</td>\n",
       "    </tr>\n",
       "    <tr>\n",
       "      <th>1506</th>\n",
       "      <td>[-23.945009, -23.316914, -25.883354, -22.36160...</td>\n",
       "      <td>[-26.738250999999998, -25.616005, -23.945156, ...</td>\n",
       "      <td>95ed1e8c</td>\n",
       "      <td>34.4721</td>\n",
       "      <td>1</td>\n",
       "    </tr>\n",
       "    <tr>\n",
       "      <th>1507</th>\n",
       "      <td>[-26.656988, -26.972933, -27.300798, -26.05789...</td>\n",
       "      <td>[-23.135164, -24.474159, -23.559067, -25.23004...</td>\n",
       "      <td>bffad1b6</td>\n",
       "      <td>37.9814</td>\n",
       "      <td>0</td>\n",
       "    </tr>\n",
       "    <tr>\n",
       "      <th>1508</th>\n",
       "      <td>[-16.241388, -17.401228, -18.385656, -19.23677...</td>\n",
       "      <td>[-26.05958, -24.065521, -23.421896, -25.257374...</td>\n",
       "      <td>ce151e35</td>\n",
       "      <td>35.2987</td>\n",
       "      <td>1</td>\n",
       "    </tr>\n",
       "  </tbody>\n",
       "</table>\n",
       "</div>"
      ],
      "text/plain": [
       "                                                 band_1  \\\n",
       "1504  [-20.528059, -22.144562, -26.714188, -24.64341...   \n",
       "1505  [-15.371544, -14.431547, -15.970677, -18.76996...   \n",
       "1506  [-23.945009, -23.316914, -25.883354, -22.36160...   \n",
       "1507  [-26.656988, -26.972933, -27.300798, -26.05789...   \n",
       "1508  [-16.241388, -17.401228, -18.385656, -19.23677...   \n",
       "\n",
       "                                                 band_2        id  inc_angle  \\\n",
       "1504  [-25.471151, -27.77906, -28.993053, -28.165241...  b2bc5d27    45.2814   \n",
       "1505  [-22.540173, -23.125895, -21.643795, -24.43109...  71a0d13b    35.7829   \n",
       "1506  [-26.738250999999998, -25.616005, -23.945156, ...  95ed1e8c    34.4721   \n",
       "1507  [-23.135164, -24.474159, -23.559067, -25.23004...  bffad1b6    37.9814   \n",
       "1508  [-26.05958, -24.065521, -23.421896, -25.257374...  ce151e35    35.2987   \n",
       "\n",
       "      is_iceberg  \n",
       "1504           1  \n",
       "1505           0  \n",
       "1506           1  \n",
       "1507           0  \n",
       "1508           1  "
      ]
     },
     "execution_count": 4,
     "metadata": {},
     "output_type": "execute_result"
    }
   ],
   "source": [
    "images.tail()"
   ]
  },
  {
   "cell_type": "code",
   "execution_count": 5,
   "metadata": {},
   "outputs": [],
   "source": [
    "def color_composite(data):\n",
    "    rgb_arrays = []\n",
    "    for i, row in data.iterrows():\n",
    "        band_1 = np.array(row['band_1']).reshape(75, 75)\n",
    "        band_2 = np.array(row['band_2']).reshape(75, 75)\n",
    "        band_3 = band_1 / band_2\n",
    "\n",
    "        r = (band_1 + abs(band_1.min())) / np.max((band_1 + abs(band_1.min())))\n",
    "        g = (band_2 + abs(band_2.min())) / np.max((band_2 + abs(band_2.min())))\n",
    "        b = (band_3 + abs(band_3.min())) / np.max((band_3 + abs(band_3.min())))\n",
    "\n",
    "        rgb = np.dstack((r, g, b))\n",
    "        rgb_arrays.append(rgb)\n",
    "    return np.array(rgb_arrays)"
   ]
  },
  {
   "cell_type": "code",
   "execution_count": 6,
   "metadata": {},
   "outputs": [],
   "source": [
    "X_raw = color_composite(images)\n",
    "Y_raw = np.array(images['is_iceberg']).reshape(X_raw.shape[0],1)\n",
    "Inc_ang_raw = np.array(images['inc_angle']).reshape(X_raw.shape[0],1)"
   ]
  },
  {
   "cell_type": "code",
   "execution_count": 7,
   "metadata": {},
   "outputs": [
    {
     "data": {
      "text/plain": [
       "(1471, 1)"
      ]
     },
     "execution_count": 7,
     "metadata": {},
     "output_type": "execute_result"
    }
   ],
   "source": [
    "X_raw.shape\n",
    "Y_raw.shape\n",
    "Inc_ang_raw.shape"
   ]
  },
  {
   "cell_type": "code",
   "execution_count": 8,
   "metadata": {
    "scrolled": true
   },
   "outputs": [
    {
     "name": "stdout",
     "output_type": "stream",
     "text": [
      "[0]\n"
     ]
    },
    {
     "data": {
      "image/png": "[encoded data removed]",
      "text/plain": [
       "<matplotlib.figure.Figure at 0x7f66528c3cf8>"
      ]
     },
     "metadata": {},
     "output_type": "display_data"
    }
   ],
   "source": [
    "a = 100\n",
    "pic = X_raw[a]\n",
    "plt.imshow(pic)\n",
    "print (Y_raw[a])"
   ]
  },
  {
   "cell_type": "code",
   "execution_count": 9,
   "metadata": {},
   "outputs": [],
   "source": [
    "#X_raw, Y_raw = shuffle(X_raw, Y_raw, random_state=55)\n",
    "X_train, X_dev, Y_train, Y_dev, Inc_ang_train, Inc_ang_dev= train_test_split(X_raw, Y_raw, Inc_ang_raw, test_size=0.15, random_state=75)"
   ]
  },
  {
   "cell_type": "code",
   "execution_count": 10,
   "metadata": {},
   "outputs": [],
   "source": [
    "def data_augment(X,Y,Ang):\n",
    "    X_aug = []\n",
    "    Y_aug = []\n",
    "    X_inc = []\n",
    "    for i in range(X.shape[0]):\n",
    "        pic = X[i]\n",
    "        label = Y[i]\n",
    "        inc_angle = Ang[i]\n",
    "        X_aug.append(pic)\n",
    "        Y_aug.append(label)\n",
    "        X_inc.append(inc_angle/90)\n",
    "        X_aug.append(pic[::-1])\n",
    "        Y_aug.append(label)\n",
    "        X_inc.append(inc_angle/90)\n",
    "        X_aug.append(rotate(pic,180))\n",
    "        Y_aug.append(label)\n",
    "        X_inc.append(inc_angle/90)\n",
    "        X_aug.append(rotate(pic[::-1],180))\n",
    "        Y_aug.append(label)\n",
    "        X_inc.append(inc_angle/90)\n",
    "        \n",
    "        X_aug.append(rotate(pic[::-1],90))\n",
    "        Y_aug.append(label)\n",
    "        X_inc.append(inc_angle/90)\n",
    "        X_aug.append(rotate(pic,90))\n",
    "        Y_aug.append(label)\n",
    "        X_inc.append(inc_angle/90)\n",
    "        X_aug.append(rotate(pic[::-1],270))\n",
    "        Y_aug.append(label)\n",
    "        X_inc.append(inc_angle/90)\n",
    "        X_aug.append(rotate(pic,270))\n",
    "        Y_aug.append(label)\n",
    "        X_inc.append(inc_angle/90)\n",
    "        \n",
    "    return np.array(X_aug), np.array(Y_aug), np.array(X_inc)"
   ]
  },
  {
   "cell_type": "code",
   "execution_count": 11,
   "metadata": {},
   "outputs": [],
   "source": [
    "X_train, Y_train, Inc_ang_train = data_augment(X_train,Y_train, Inc_ang_train)  "
   ]
  },
  {
   "cell_type": "code",
   "execution_count": 12,
   "metadata": {},
   "outputs": [
    {
     "name": "stdout",
     "output_type": "stream",
     "text": [
      "(221, 75, 75, 3) (5000, 75, 75, 3) (5000, 1)\n"
     ]
    }
   ],
   "source": [
    "print (X_dev.shape, X_train.shape, Inc_ang_train.shape)"
   ]
  },
  {
   "cell_type": "code",
   "execution_count": null,
   "metadata": {},
   "outputs": [],
   "source": [
    "def matthews_correlation(y_true, y_pred):\n",
    "    \"\"\"Matthews correlation metric.\n",
    "    It is only computed as a batch-wise average, not globally.\n",
    "    Computes the Matthews correlation coefficient measure for quality\n",
    "    of binary classification problems.\n",
    "    \"\"\"\n",
    "    y_pred_pos = K.round(K.clip(y_pred, 0, 1))\n",
    "    y_pred_neg = 1 - y_pred_pos\n",
    "\n",
    "    y_pos = K.round(K.clip(y_true, 0, 1))\n",
    "    y_neg = 1 - y_pos\n",
    "\n",
    "    tp = K.sum(y_pos * y_pred_pos)\n",
    "    tn = K.sum(y_neg * y_pred_neg)\n",
    "\n",
    "    fp = K.sum(y_neg * y_pred_pos)\n",
    "    fn = K.sum(y_pos * y_pred_neg)\n",
    "\n",
    "    numerator = (tp * tn - fp * fn)\n",
    "    denominator = K.sqrt((tp + fp) * (tp + fn) * (tn + fp) * (tn + fn))\n",
    "\n",
    "    return numerator / (denominator + K.epsilon())"
   ]
  },
  {
   "cell_type": "markdown",
   "metadata": {},
   "source": [
    "### Simple model"
   ]
  },
  {
   "cell_type": "code",
   "execution_count": 13,
   "metadata": {},
   "outputs": [],
   "source": [
    "def icebergModel():\n",
    "    Input1 = Input(shape = (75, 75, 3))\n",
    "    \n",
    "    X = ZeroPadding2D((1, 1))(Input1)\n",
    "    X = Conv2D(128, (3, 3), strides = (1, 1), name = 'conv0', kernel_initializer = glorot_uniform(seed=0))(X)\n",
    "    X = BatchNormalization(axis = 3, name = 'bn0')(X)\n",
    "    X = Activation('relu')(X)\n",
    "    X = MaxPooling2D((2, 2), name='max_pool0')(X)\n",
    "    \n",
    "    \n",
    "    X = ZeroPadding2D((1, 1))(X)\n",
    "    X = Conv2D(256, (3, 3), strides = (1, 1), name = 'conv1', kernel_initializer = glorot_uniform(seed=0))(X)\n",
    "    X = BatchNormalization(axis = 3, name = 'bn1')(X)\n",
    "    X = Activation('relu')(X)\n",
    "    X = MaxPooling2D((2, 2), name='max_pool1')(X)\n",
    "    \n",
    "    X = Conv2D(512, (1, 1), strides = (1, 1), name = 'conv2', kernel_initializer = glorot_uniform(seed=0))(X)\n",
    "    X = BatchNormalization(axis = 3, name = 'bn2')(X)\n",
    "    X = Activation('relu')(X)\n",
    "    X = AveragePooling2D((2, 2), name='ave_pool0')(X)\n",
    "        \n",
    "    X = Flatten()(X)\n",
    "    \n",
    "    \n",
    "    X = BatchNormalization(name = 'bn3')(X)\n",
    "    X = Dense(10, activation='relu', name='fc_0', kernel_initializer = glorot_uniform(seed=0))(X)\n",
    "\n",
    "    \n",
    "    \n",
    "    \n",
    "    Input2 = Input(shape=(1,))\n",
    "    X_1 = Dense(1, activation='relu', name='fc_1', kernel_initializer = glorot_uniform(seed=0))(Input2)\n",
    "    X = Concatenate()([X, X_1])\n",
    "    \n",
    "    \n",
    "    \n",
    "    X = Dense(1, activation='sigmoid', name='output')(X)\n",
    "\n",
    "    model = Model(inputs = [Input1,Input2], outputs = X, name='icebergModel')\n",
    "    return model"
   ]
  },
  {
   "cell_type": "code",
   "execution_count": 14,
   "metadata": {},
   "outputs": [],
   "source": [
    "icebergModel = icebergModel()"
   ]
  },
  {
   "cell_type": "code",
   "execution_count": 15,
   "metadata": {},
   "outputs": [],
   "source": [
    "class LossHistory(Callback):\n",
    "    def on_train_begin(self, logs={}):\n",
    "        self.losses = []\n",
    "    def on_batch_end(self, batch, logs={}):\n",
    "        self.losses.append(logs.get('loss'))\n",
    "        \n",
    "history = LossHistory()\n",
    "optimizer = Adam(lr=0.00075, decay=1e-05) "
   ]
  },
  {
   "cell_type": "code",
   "execution_count": 18,
   "metadata": {},
   "outputs": [],
   "source": [
    "icebergModel.compile(optimizer = optimizer, loss=\"binary_crossentropy\", metrics = [\"accuracy\",matthews_correlation])"
   ]
  },
  {
   "cell_type": "code",
   "execution_count": 19,
   "metadata": {},
   "outputs": [
    {
     "name": "stdout",
     "output_type": "stream",
     "text": [
      "Epoch 1/50\n",
      "5000/5000 [==============================] - 789s - loss: 0.8214 - acc: 0.7196 - matthews_correlation: 0.4819   \n",
      "Epoch 2/50\n",
      "5000/5000 [==============================] - 790s - loss: 0.5102 - acc: 0.7608 - matthews_correlation: 0.5439   \n",
      "Epoch 3/50\n",
      "5000/5000 [==============================] - 789s - loss: 0.4459 - acc: 0.7722 - matthews_correlation: 0.5740   \n",
      "Epoch 4/50\n",
      "5000/5000 [==============================] - 787s - loss: 0.4201 - acc: 0.7930 - matthews_correlation: 0.6083   \n",
      "Epoch 5/50\n",
      "5000/5000 [==============================] - 789s - loss: 0.3839 - acc: 0.8286 - matthews_correlation: 0.6682   \n",
      "Epoch 6/50\n",
      "5000/5000 [==============================] - 787s - loss: 0.3947 - acc: 0.8376 - matthews_correlation: 0.6847   \n",
      "Epoch 7/50\n",
      "5000/5000 [==============================] - 786s - loss: 0.3248 - acc: 0.8656 - matthews_correlation: 0.7380   \n",
      "Epoch 8/50\n",
      "5000/5000 [==============================] - 792s - loss: 0.4804 - acc: 0.8222 - matthews_correlation: 0.6622   \n",
      "Epoch 9/50\n",
      "5000/5000 [==============================] - 793s - loss: 0.3939 - acc: 0.8562 - matthews_correlation: 0.7209   \n",
      "Epoch 10/50\n",
      "5000/5000 [==============================] - 790s - loss: 0.3346 - acc: 0.8606 - matthews_correlation: 0.7299   \n",
      "Epoch 11/50\n",
      "5000/5000 [==============================] - 793s - loss: 0.2860 - acc: 0.8792 - matthews_correlation: 0.7642   \n",
      "Epoch 12/50\n",
      "5000/5000 [==============================] - 792s - loss: 0.3809 - acc: 0.8534 - matthews_correlation: 0.7128   \n",
      "Epoch 13/50\n",
      "5000/5000 [==============================] - 790s - loss: 0.3981 - acc: 0.8478 - matthews_correlation: 0.7038   \n",
      "Epoch 14/50\n",
      "5000/5000 [==============================] - 789s - loss: 0.2963 - acc: 0.8864 - matthews_correlation: 0.7788   \n",
      "Epoch 15/50\n",
      "5000/5000 [==============================] - 789s - loss: 0.2965 - acc: 0.8784 - matthews_correlation: 0.7639   \n",
      "Epoch 16/50\n",
      "5000/5000 [==============================] - 790s - loss: 0.2644 - acc: 0.8900 - matthews_correlation: 0.7879   \n",
      "Epoch 17/50\n",
      "5000/5000 [==============================] - 790s - loss: 0.2163 - acc: 0.9034 - matthews_correlation: 0.8116   \n",
      "Epoch 18/50\n",
      "5000/5000 [==============================] - 789s - loss: 0.2418 - acc: 0.9016 - matthews_correlation: 0.8087   \n",
      "Epoch 19/50\n",
      "5000/5000 [==============================] - 789s - loss: 0.2218 - acc: 0.9038 - matthews_correlation: 0.8118   \n",
      "Epoch 20/50\n",
      "5000/5000 [==============================] - 790s - loss: 0.2294 - acc: 0.9018 - matthews_correlation: 0.8090   \n",
      "Epoch 21/50\n",
      "5000/5000 [==============================] - 791s - loss: 0.2628 - acc: 0.8984 - matthews_correlation: 0.8009   \n",
      "Epoch 22/50\n",
      "5000/5000 [==============================] - 791s - loss: 0.2149 - acc: 0.9102 - matthews_correlation: 0.8267   \n",
      "Epoch 23/50\n",
      "5000/5000 [==============================] - 792s - loss: 0.2125 - acc: 0.9098 - matthews_correlation: 0.8237   \n",
      "Epoch 24/50\n",
      "5000/5000 [==============================] - 797s - loss: 0.1852 - acc: 0.9224 - matthews_correlation: 0.8481   \n",
      "Epoch 25/50\n",
      "5000/5000 [==============================] - 791s - loss: 0.1722 - acc: 0.9336 - matthews_correlation: 0.8707   \n",
      "Epoch 26/50\n",
      "5000/5000 [==============================] - 791s - loss: 0.1572 - acc: 0.9414 - matthews_correlation: 0.8844   \n",
      "Epoch 27/50\n",
      "5000/5000 [==============================] - 800s - loss: 0.1483 - acc: 0.9446 - matthews_correlation: 0.8914   \n",
      "Epoch 28/50\n",
      "5000/5000 [==============================] - 792s - loss: 0.1373 - acc: 0.9446 - matthews_correlation: 0.8925   \n",
      "Epoch 29/50\n",
      "5000/5000 [==============================] - 789s - loss: 0.1312 - acc: 0.9520 - matthews_correlation: 0.9055   \n",
      "Epoch 30/50\n",
      "5000/5000 [==============================] - 790s - loss: 0.2411 - acc: 0.9228 - matthews_correlation: 0.8492   \n",
      "Epoch 31/50\n",
      "5000/5000 [==============================] - 791s - loss: 0.2144 - acc: 0.9176 - matthews_correlation: 0.8412   \n",
      "Epoch 32/50\n",
      "5000/5000 [==============================] - 792s - loss: 0.1474 - acc: 0.9420 - matthews_correlation: 0.8870   \n",
      "Epoch 33/50\n",
      "5000/5000 [==============================] - 791s - loss: 0.2252 - acc: 0.9124 - matthews_correlation: 0.8293   \n",
      "Epoch 34/50\n",
      "5000/5000 [==============================] - 791s - loss: 0.1449 - acc: 0.9486 - matthews_correlation: 0.9000   \n",
      "Epoch 35/50\n",
      "5000/5000 [==============================] - 792s - loss: 0.1445 - acc: 0.9462 - matthews_correlation: 0.8954   \n",
      "Epoch 36/50\n",
      "5000/5000 [==============================] - 806s - loss: 0.1303 - acc: 0.9550 - matthews_correlation: 0.9117   \n",
      "Epoch 37/50\n",
      "5000/5000 [==============================] - 798s - loss: 0.1151 - acc: 0.9578 - matthews_correlation: 0.9176   \n",
      "Epoch 38/50\n",
      "5000/5000 [==============================] - 791s - loss: 0.1090 - acc: 0.9654 - matthews_correlation: 0.9324   \n",
      "Epoch 39/50\n",
      "5000/5000 [==============================] - 789s - loss: 0.2114 - acc: 0.9136 - matthews_correlation: 0.8319   \n",
      "Epoch 40/50\n",
      "5000/5000 [==============================] - 791s - loss: 0.1500 - acc: 0.9482 - matthews_correlation: 0.8987   \n",
      "Epoch 41/50\n",
      "5000/5000 [==============================] - 791s - loss: 0.1641 - acc: 0.9418 - matthews_correlation: 0.8861   \n",
      "Epoch 42/50\n",
      "5000/5000 [==============================] - 791s - loss: 0.1201 - acc: 0.9566 - matthews_correlation: 0.9150   \n",
      "Epoch 43/50\n",
      "5000/5000 [==============================] - 806s - loss: 0.1165 - acc: 0.9526 - matthews_correlation: 0.9085   \n",
      "Epoch 44/50\n",
      "5000/5000 [==============================] - 814s - loss: 0.1374 - acc: 0.9546 - matthews_correlation: 0.9125   \n",
      "Epoch 45/50\n",
      "5000/5000 [==============================] - 847s - loss: 0.1792 - acc: 0.9310 - matthews_correlation: 0.8656   \n",
      "Epoch 46/50\n",
      "5000/5000 [==============================] - 959s - loss: 0.1068 - acc: 0.9624 - matthews_correlation: 0.9255   \n",
      "Epoch 47/50\n",
      "5000/5000 [==============================] - 900s - loss: 0.0856 - acc: 0.9728 - matthews_correlation: 0.9458   \n",
      "Epoch 48/50\n",
      "5000/5000 [==============================] - 910s - loss: 0.1407 - acc: 0.9470 - matthews_correlation: 0.8945   \n",
      "Epoch 49/50\n",
      "5000/5000 [==============================] - 845s - loss: 0.0916 - acc: 0.9714 - matthews_correlation: 0.9432   \n",
      "Epoch 50/50\n",
      "5000/5000 [==============================] - 861s - loss: 0.0728 - acc: 0.9784 - matthews_correlation: 0.9573   \n"
     ]
    },
    {
     "data": {
      "text/plain": [
       "<keras.callbacks.History at 0x7f663b237ba8>"
      ]
     },
     "execution_count": 19,
     "metadata": {},
     "output_type": "execute_result"
    }
   ],
   "source": [
    "#icebergModel = load_model('icebergModel.h5')\n",
    "icebergModel.fit(x = [X_train, Inc_ang_train],y = Y_train, epochs = 50, batch_size = 64, callbacks=[history], verbose=1)"
   ]
  },
  {
   "cell_type": "code",
   "execution_count": 20,
   "metadata": {},
   "outputs": [
    {
     "data": {
      "image/png": "[encoded data removed]",
      "text/plain": [
       "<matplotlib.figure.Figure at 0x7f664fa35128>"
      ]
     },
     "metadata": {},
     "output_type": "display_data"
    }
   ],
   "source": [
    "_ = plt.plot(history.losses)"
   ]
  },
  {
   "cell_type": "code",
   "execution_count": 21,
   "metadata": {
    "scrolled": false
   },
   "outputs": [
    {
     "name": "stdout",
     "output_type": "stream",
     "text": [
      "221/221 [==============================] - 13s    \n",
      "Loss: 0.50036084598\n",
      "Dev Accuracy: 0.864253397171\n"
     ]
    }
   ],
   "source": [
    "preds = icebergModel.evaluate([X_dev,Inc_ang_dev], Y_dev)\n",
    "print (\"Loss:\",preds[0])\n",
    "print (\"Dev Accuracy:\",preds[1])\n",
    "#Loss: 0.629512086983\n",
    "#Dev Accuracy: 0.877828054838"
   ]
  },
  {
   "cell_type": "code",
   "execution_count": 27,
   "metadata": {},
   "outputs": [
    {
     "name": "stdout",
     "output_type": "stream",
     "text": [
      "5000/5000 [==============================] - 378s   \n",
      "Loss: 0.0520890808661\n",
      "Train Accuracy: 0.9836\n"
     ]
    }
   ],
   "source": [
    "preds = icebergModel.evaluate([X_train,Inc_ang_train], Y_train)\n",
    "print (\"Loss:\",preds[0])\n",
    "print (\"Train Accuracy:\",preds[1])\n",
    "#Loss: 0.069182878628\n",
    "#Train Accuracy: 0.9774"
   ]
  },
  {
   "cell_type": "code",
   "execution_count": 23,
   "metadata": {},
   "outputs": [],
   "source": [
    "predictions = icebergModel.predict([X_dev,Inc_ang_dev])"
   ]
  },
  {
   "cell_type": "markdown",
   "metadata": {},
   "source": [
    "#### ROC Curve"
   ]
  },
  {
   "cell_type": "code",
   "execution_count": 24,
   "metadata": {
    "scrolled": false
   },
   "outputs": [
    {
     "data": {
      "text/plain": [
       "<matplotlib.figure.Figure at 0x7f668c88a0f0>"
      ]
     },
     "metadata": {},
     "output_type": "display_data"
    },
    {
     "data": {
      "image/png": "[encoded data removed]",
      "text/plain": [
       "<matplotlib.figure.Figure at 0x7f668c76a048>"
      ]
     },
     "metadata": {},
     "output_type": "display_data"
    }
   ],
   "source": [
    "a,b, _ = roc_curve(Y_dev.ravel(), predictions.ravel())\n",
    "c = auc(a,b)\n",
    "plt.figure()\n",
    "\n",
    "plt.figure()\n",
    "\n",
    "\n",
    "lw = 2\n",
    "plt.plot(a, b, color='darkorange',lw=lw, label='ROC curve (area = %0.2f)' % c)\n",
    "plt.plot([0, 1], [0, 1], lw=lw, linestyle='--', color = 'yellow')\n",
    "plt.xlim([0.0, 1.0])\n",
    "plt.ylim([0.0, 1.05])\n",
    "plt.xlabel('False Positive Rate')\n",
    "plt.ylabel('True Positive Rate')\n",
    "plt.title('Receiver operating characteristic')\n",
    "plt.legend(loc=\"lower right\")\n",
    "plt.show()"
   ]
  },
  {
   "cell_type": "code",
   "execution_count": 25,
   "metadata": {},
   "outputs": [
    {
     "name": "stdout",
     "output_type": "stream",
     "text": [
      "[[92 19]\n",
      " [11 99]]\n"
     ]
    },
    {
     "data": {
      "image/png": "[encoded data removed]",
      "text/plain": [
       "<matplotlib.figure.Figure at 0x7f668c6e4198>"
      ]
     },
     "metadata": {},
     "output_type": "display_data"
    }
   ],
   "source": [
    "cm_raw = confusion_matrix(Y_dev, predictions>0.5)\n",
    "cm = cm_raw.astype('float') / cm_raw.sum(axis=1)[:, np.newaxis]\n",
    "plt.imshow(cm, interpolation='nearest', cmap=plt.cm.RdYlGn)\n",
    "plt.title('Confusion Matrix')\n",
    "plt.colorbar()\n",
    "#tick_marks = np.arange(len(2))\n",
    "#plt.xticks(tick_marks, 'classes', rotation=45)\n",
    "#plt.yticks(tick_marks, 'classes')\n",
    "fmt = '.2f'\n",
    "thresh = cm.max() / 2.\n",
    "for i, j in itertools.product(range(cm.shape[0]), range(cm.shape[1])):\n",
    "    plt.text(j, i, format(cm[i, j], fmt),\n",
    "     horizontalalignment=\"center\",\n",
    "     color=\"black\") #if cm[i, j] > thresh else \"black\")\n",
    "plt.tight_layout()\n",
    "plt.ylabel('True label')\n",
    "plt.xlabel('Predicted label')\n",
    "print(cm_raw)"
   ]
  },
  {
   "cell_type": "code",
   "execution_count": 26,
   "metadata": {
    "collapsed": true
   },
   "outputs": [
    {
     "data": {
      "text/plain": [
       "array([[  7.36654571e-10],\n",
       "       [  1.07096836e-01],\n",
       "       [  9.99989867e-01],\n",
       "       [  7.80686969e-04],\n",
       "       [  3.03387105e-01],\n",
       "       [  9.99435604e-01],\n",
       "       [  3.37874721e-04],\n",
       "       [  9.99995589e-01],\n",
       "       [  9.93990779e-01],\n",
       "       [  2.95989912e-06],\n",
       "       [  9.85592425e-01],\n",
       "       [  9.99673247e-01],\n",
       "       [  4.83798087e-01],\n",
       "       [  5.81930298e-03],\n",
       "       [  9.97178435e-01],\n",
       "       [  9.99996543e-01],\n",
       "       [  9.99637008e-01],\n",
       "       [  5.77795319e-02],\n",
       "       [  9.99932885e-01],\n",
       "       [  9.99734461e-01],\n",
       "       [  2.53682304e-03],\n",
       "       [  9.99866605e-01],\n",
       "       [  9.99999285e-01],\n",
       "       [  9.65917051e-01],\n",
       "       [  9.99941111e-01],\n",
       "       [  5.87454975e-01],\n",
       "       [  2.34161433e-07],\n",
       "       [  9.91262555e-01],\n",
       "       [  3.74854564e-10],\n",
       "       [  9.99773443e-01],\n",
       "       [  4.34801579e-01],\n",
       "       [  8.12545940e-13],\n",
       "       [  9.99934435e-01],\n",
       "       [  5.08334097e-07],\n",
       "       [  9.99940753e-01],\n",
       "       [  8.67085278e-01],\n",
       "       [  9.99980450e-01],\n",
       "       [  9.52246487e-01],\n",
       "       [  9.99999404e-01],\n",
       "       [  3.69379940e-08],\n",
       "       [  9.38045385e-04],\n",
       "       [  9.92010593e-01],\n",
       "       [  9.99407887e-01],\n",
       "       [  7.53258914e-02],\n",
       "       [  9.90697026e-01],\n",
       "       [  9.99989033e-01],\n",
       "       [  9.99040425e-01],\n",
       "       [  9.99924541e-01],\n",
       "       [  9.99996781e-01],\n",
       "       [  5.53158816e-06],\n",
       "       [  1.07542463e-01],\n",
       "       [  9.53758761e-09],\n",
       "       [  9.97505128e-01],\n",
       "       [  9.83071625e-01],\n",
       "       [  9.99726832e-01],\n",
       "       [  3.41438153e-03],\n",
       "       [  4.91643185e-03],\n",
       "       [  1.00000000e+00],\n",
       "       [  1.67332888e-01],\n",
       "       [  1.20317614e-04],\n",
       "       [  9.42375777e-09],\n",
       "       [  4.82922431e-08],\n",
       "       [  9.98936117e-01],\n",
       "       [  9.99923110e-01],\n",
       "       [  4.27309743e-08],\n",
       "       [  9.99014258e-01],\n",
       "       [  9.99447882e-01],\n",
       "       [  9.98515069e-01],\n",
       "       [  1.95556339e-02],\n",
       "       [  0.00000000e+00],\n",
       "       [  9.96952295e-01],\n",
       "       [  4.23500694e-07],\n",
       "       [  2.27559113e-07],\n",
       "       [  8.74054492e-01],\n",
       "       [  9.99990702e-01],\n",
       "       [  1.86031451e-03],\n",
       "       [  1.00000000e+00],\n",
       "       [  1.06390718e-04],\n",
       "       [  2.24940535e-02],\n",
       "       [  9.29860890e-01],\n",
       "       [  7.69472244e-05],\n",
       "       [  0.00000000e+00],\n",
       "       [  9.55647510e-03],\n",
       "       [  5.90269128e-03],\n",
       "       [  9.99994516e-01],\n",
       "       [  2.32867986e-01],\n",
       "       [  9.89623964e-01],\n",
       "       [  1.08217591e-05],\n",
       "       [  9.76941168e-01],\n",
       "       [  8.38626325e-01],\n",
       "       [  1.73376873e-01],\n",
       "       [  9.07700837e-01],\n",
       "       [  9.91889954e-01],\n",
       "       [  9.99997020e-01],\n",
       "       [  1.02477190e-06],\n",
       "       [  9.99247193e-01],\n",
       "       [  9.91321623e-01],\n",
       "       [  0.00000000e+00],\n",
       "       [  6.81266665e-01],\n",
       "       [  1.74606303e-05],\n",
       "       [  8.50391835e-02],\n",
       "       [  9.42074060e-01],\n",
       "       [  9.98520434e-01],\n",
       "       [  9.95732725e-01],\n",
       "       [  0.00000000e+00],\n",
       "       [  1.75633846e-04],\n",
       "       [  3.73768419e-01],\n",
       "       [  2.52571248e-04],\n",
       "       [  8.39178199e-07],\n",
       "       [  9.97596562e-01],\n",
       "       [  2.69524311e-03],\n",
       "       [  9.97179270e-01],\n",
       "       [  2.34856907e-05],\n",
       "       [  9.64335382e-01],\n",
       "       [  1.87648914e-03],\n",
       "       [  6.30979426e-04],\n",
       "       [  1.02686596e-24],\n",
       "       [  7.76522793e-04],\n",
       "       [  1.62404365e-04],\n",
       "       [  9.99693513e-01],\n",
       "       [  5.87213159e-01],\n",
       "       [  9.81328249e-01],\n",
       "       [  9.49103653e-01],\n",
       "       [  7.41607785e-01],\n",
       "       [  6.91983927e-12],\n",
       "       [  9.89781737e-01],\n",
       "       [  1.00891826e-04],\n",
       "       [  9.99987125e-01],\n",
       "       [  9.99999762e-01],\n",
       "       [  5.31494210e-04],\n",
       "       [  1.02416407e-05],\n",
       "       [  9.97870445e-01],\n",
       "       [  9.99981403e-01],\n",
       "       [  1.01391619e-04],\n",
       "       [  8.09426665e-01],\n",
       "       [  9.18647349e-01],\n",
       "       [  9.98953700e-01],\n",
       "       [  9.92208302e-01],\n",
       "       [  9.63898838e-01],\n",
       "       [  6.81823073e-03],\n",
       "       [  9.99704778e-01],\n",
       "       [  3.14946490e-04],\n",
       "       [  4.34801579e-01],\n",
       "       [  9.99996066e-01],\n",
       "       [  1.76774294e-04],\n",
       "       [  3.78722907e-04],\n",
       "       [  8.32031310e-01],\n",
       "       [  4.59183872e-01],\n",
       "       [  9.11814044e-04],\n",
       "       [  4.64636041e-03],\n",
       "       [  2.53532105e-03],\n",
       "       [  1.35837581e-05],\n",
       "       [  3.12321572e-05],\n",
       "       [  9.99005258e-01],\n",
       "       [  7.14226917e-05],\n",
       "       [  9.99913096e-01],\n",
       "       [  6.82090342e-01],\n",
       "       [  9.99990106e-01],\n",
       "       [  9.99168754e-01],\n",
       "       [  5.35489016e-06],\n",
       "       [  9.89481926e-01],\n",
       "       [  2.94092069e-06],\n",
       "       [  1.16113610e-04],\n",
       "       [  5.48232853e-01],\n",
       "       [  1.00000000e+00],\n",
       "       [  8.66398513e-01],\n",
       "       [  1.57842107e-04],\n",
       "       [  8.66043847e-05],\n",
       "       [  6.01048814e-05],\n",
       "       [  9.94919240e-01],\n",
       "       [  9.81321871e-01],\n",
       "       [  8.93803239e-01],\n",
       "       [  9.99509573e-01],\n",
       "       [  9.99823987e-01],\n",
       "       [  9.95152116e-01],\n",
       "       [  7.87878234e-05],\n",
       "       [  1.24556780e-01],\n",
       "       [  9.90500510e-01],\n",
       "       [  9.99752700e-01],\n",
       "       [  0.00000000e+00],\n",
       "       [  2.34845444e-04],\n",
       "       [  9.73989010e-01],\n",
       "       [  4.36346619e-11],\n",
       "       [  9.98007953e-01],\n",
       "       [  8.05259705e-01],\n",
       "       [  1.01691830e-05],\n",
       "       [  1.35822082e-02],\n",
       "       [  9.99477565e-01],\n",
       "       [  2.93179227e-07],\n",
       "       [  9.99627709e-01],\n",
       "       [  7.34753840e-08],\n",
       "       [  1.31482268e-02],\n",
       "       [  3.49465348e-02],\n",
       "       [  9.99999404e-01],\n",
       "       [  7.23414183e-01],\n",
       "       [  9.68186617e-01],\n",
       "       [  9.99999762e-01],\n",
       "       [  1.79029576e-05],\n",
       "       [  5.98859913e-08],\n",
       "       [  9.99835968e-01],\n",
       "       [  9.50750177e-07],\n",
       "       [  9.51586068e-01],\n",
       "       [  1.96459606e-01],\n",
       "       [  4.08490211e-01],\n",
       "       [  8.59036565e-01],\n",
       "       [  9.99998689e-01],\n",
       "       [  0.00000000e+00],\n",
       "       [  9.99922991e-01],\n",
       "       [  9.93424058e-01],\n",
       "       [  9.99997616e-01],\n",
       "       [  7.70256156e-04],\n",
       "       [  9.89895344e-01],\n",
       "       [  9.97485876e-01],\n",
       "       [  1.29000575e-03],\n",
       "       [  9.99741375e-01],\n",
       "       [  0.00000000e+00],\n",
       "       [  9.99709189e-01],\n",
       "       [  9.99927759e-01],\n",
       "       [  9.84844625e-01],\n",
       "       [  1.39628863e-03],\n",
       "       [  1.50459691e-05]], dtype=float32)"
      ]
     },
     "execution_count": 26,
     "metadata": {},
     "output_type": "execute_result"
    }
   ],
   "source": [
    "predictions"
   ]
  },
  {
   "cell_type": "code",
   "execution_count": 163,
   "metadata": {},
   "outputs": [],
   "source": [
    "#weights = icebergModel.layers[-4].get_weights()"
   ]
  },
  {
   "cell_type": "code",
   "execution_count": 75,
   "metadata": {},
   "outputs": [
    {
     "name": "stdout",
     "output_type": "stream",
     "text": [
      "____________________________________________________________________________________________________\n",
      "Layer (type)                     Output Shape          Param #     Connected to                     \n",
      "====================================================================================================\n",
      "input_5 (InputLayer)             (None, 75, 75, 3)     0                                            \n",
      "____________________________________________________________________________________________________\n",
      "zero_padding2d_5 (ZeroPadding2D) (None, 77, 77, 3)     0           input_5[0][0]                    \n",
      "____________________________________________________________________________________________________\n",
      "conv0 (Conv2D)                   (None, 75, 75, 128)   3584        zero_padding2d_5[0][0]           \n",
      "____________________________________________________________________________________________________\n",
      "bn0 (BatchNormalization)         (None, 75, 75, 128)   512         conv0[0][0]                      \n",
      "____________________________________________________________________________________________________\n",
      "activation_7 (Activation)        (None, 75, 75, 128)   0           bn0[0][0]                        \n",
      "____________________________________________________________________________________________________\n",
      "max_pool0 (MaxPooling2D)         (None, 37, 37, 128)   0           activation_7[0][0]               \n",
      "____________________________________________________________________________________________________\n",
      "zero_padding2d_6 (ZeroPadding2D) (None, 39, 39, 128)   0           max_pool0[0][0]                  \n",
      "____________________________________________________________________________________________________\n",
      "conv1 (Conv2D)                   (None, 37, 37, 256)   295168      zero_padding2d_6[0][0]           \n",
      "____________________________________________________________________________________________________\n",
      "bn1 (BatchNormalization)         (None, 37, 37, 256)   1024        conv1[0][0]                      \n",
      "____________________________________________________________________________________________________\n",
      "activation_8 (Activation)        (None, 37, 37, 256)   0           bn1[0][0]                        \n",
      "____________________________________________________________________________________________________\n",
      "max_pool1 (MaxPooling2D)         (None, 18, 18, 256)   0           activation_8[0][0]               \n",
      "____________________________________________________________________________________________________\n",
      "conv2 (Conv2D)                   (None, 18, 18, 512)   131584      max_pool1[0][0]                  \n",
      "____________________________________________________________________________________________________\n",
      "bn2 (BatchNormalization)         (None, 18, 18, 512)   2048        conv2[0][0]                      \n",
      "____________________________________________________________________________________________________\n",
      "activation_9 (Activation)        (None, 18, 18, 512)   0           bn2[0][0]                        \n",
      "____________________________________________________________________________________________________\n",
      "ave_pool0 (AveragePooling2D)     (None, 9, 9, 512)     0           activation_9[0][0]               \n",
      "____________________________________________________________________________________________________\n",
      "flatten_3 (Flatten)              (None, 41472)         0           ave_pool0[0][0]                  \n",
      "____________________________________________________________________________________________________\n",
      "bn3 (BatchNormalization)         (None, 41472)         165888      flatten_3[0][0]                  \n",
      "____________________________________________________________________________________________________\n",
      "input_6 (InputLayer)             (None, 1)             0                                            \n",
      "____________________________________________________________________________________________________\n",
      "fc_0 (Dense)                     (None, 8)             331784      bn3[0][0]                        \n",
      "____________________________________________________________________________________________________\n",
      "fc_1 (Dense)                     (None, 1)             2           input_6[0][0]                    \n",
      "____________________________________________________________________________________________________\n",
      "concatenate_3 (Concatenate)      (None, 9)             0           fc_0[0][0]                       \n",
      "                                                                   fc_1[0][0]                       \n",
      "____________________________________________________________________________________________________\n",
      "output (Dense)                   (None, 1)             10          concatenate_3[0][0]              \n",
      "====================================================================================================\n",
      "Total params: 931,604\n",
      "Trainable params: 846,868\n",
      "Non-trainable params: 84,736\n",
      "____________________________________________________________________________________________________\n"
     ]
    }
   ],
   "source": [
    "icebergModel.summary()"
   ]
  },
  {
   "cell_type": "code",
   "execution_count": 120,
   "metadata": {},
   "outputs": [],
   "source": [
    "icebergModel.save('icebergModel_50its.h5')"
   ]
  }
 ],
 "metadata": {
  "kernelspec": {
   "display_name": "Python 3",
   "language": "python",
   "name": "python3"
  },
  "language_info": {
   "codemirror_mode": {
    "name": "ipython",
    "version": 3
   },
   "file_extension": ".py",
   "mimetype": "text/x-python",
   "name": "python",
   "nbconvert_exporter": "python",
   "pygments_lexer": "ipython3",
   "version": "3.5.2"
  }
 },
 "nbformat": 4,
 "nbformat_minor": 2
}
